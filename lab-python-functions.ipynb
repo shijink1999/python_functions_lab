{
 "cells": [
  {
   "cell_type": "markdown",
   "id": "25d7736c-ba17-4aff-b6bb-66eba20fbf4e",
   "metadata": {},
   "source": [
    "# Lab | Functions"
   ]
  },
  {
   "cell_type": "markdown",
   "id": "0c581062-8967-4d93-b06e-62833222f930",
   "metadata": {
    "tags": []
   },
   "source": [
    "## Exercise: Managing Customer Orders with Functions\n",
    "\n",
    "In the previous exercise, you improved the code for managing customer orders by using loops and flow control. Now, let's take it a step further and refactor the code by introducing functions.\n",
    "\n",
    "Follow the steps below to complete the exercise:\n",
    "\n",
    "1. Define a function named `initialize_inventory` that takes `products` as a parameter. Inside the function, implement the code for initializing the inventory dictionary using a loop and user input.\n",
    "\n",
    "2. Define a function named `get_customer_orders` that takes no parameters. Inside the function, implement the code for prompting the user to enter the product names using a loop. The function should return the `customer_orders` set.\n",
    "\n",
    "3. Define a function named `update_inventory` that takes `customer_orders` and `inventory` as parameters. Inside the function, implement the code for updating the inventory dictionary based on the customer orders.\n",
    "\n",
    "4. Define a function named `calculate_order_statistics` that takes `customer_orders` and `products` as parameters. Inside the function, implement the code for calculating the order statistics (total products ordered, and percentage of unique products ordered). The function should return these values.\n",
    "\n",
    "5. Define a function named `print_order_statistics` that takes `order_statistics` as a parameter. Inside the function, implement the code for printing the order statistics.\n",
    "\n",
    "6. Define a function named `print_updated_inventory` that takes `inventory` as a parameter. Inside the function, implement the code for printing the updated inventory.\n",
    "\n",
    "7. Call the functions in the appropriate sequence to execute the program and manage customer orders.\n",
    "\n",
    "Hints for functions:\n",
    "\n",
    "- Consider the input parameters required for each function and their return values.\n",
    "- Utilize function parameters and return values to transfer data between functions.\n",
    "- Test your functions individually to ensure they work correctly.\n",
    "\n",
    "\n"
   ]
  },
  {
   "cell_type": "code",
   "execution_count": 15,
   "id": "3bcbdb3d-128a-45e9-b4c3-807cf87609b4",
   "metadata": {},
   "outputs": [
    {
     "name": "stdin",
     "output_type": "stream",
     "text": [
      "Enter quantity for t-shirt:  5\n",
      "Enter quantity for mug:  9\n",
      "Enter quantity for hat:  8\n",
      "Enter quantity for book:  1\n",
      "Enter quantity for keychain:  8\n",
      "\n",
      "Enter the name of a product you want to order (or type 'done' to finish):  mug\n",
      "\n",
      "Enter the name of a product you want to order (or type 'done' to finish):  hat\n",
      "\n",
      "Enter the name of a product you want to order (or type 'done' to finish):  4\n"
     ]
    },
    {
     "name": "stdout",
     "output_type": "stream",
     "text": [
      "Invalid product. Please choose from: t-shirt, mug, hat, book, keychain\n"
     ]
    },
    {
     "name": "stdin",
     "output_type": "stream",
     "text": [
      "\n",
      "Enter the name of a product you want to order (or type 'done' to finish):  book\n",
      "\n",
      "Enter the name of a product you want to order (or type 'done' to finish):  done\n"
     ]
    },
    {
     "name": "stdout",
     "output_type": "stream",
     "text": [
      "\n",
      "Order Statistics:\n",
      "Total Products Ordered: 3\n",
      "Percentage of Products Ordered: 60.00%\n",
      "\n",
      "Updated Inventory:\n",
      "t-shirt: 5\n",
      "mug: 8\n",
      "hat: 7\n",
      "book: 0\n",
      "keychain: 8\n"
     ]
    }
   ],
   "source": [
    "\n",
    "def initialize_inventory(products):\n",
    "    \"\"\"Initialize the inventory dictionary with quantities for each product\"\"\"\n",
    "    inventory = {}\n",
    "    for product in products:\n",
    "        while True:\n",
    "            try:\n",
    "                quantity = int(input(f\"Enter quantity for {product}: \"))\n",
    "                inventory[product] = quantity\n",
    "                break\n",
    "            except ValueError:\n",
    "                print(\"Invalid input. Please enter a whole number.\")\n",
    "    return inventory\n",
    "\n",
    "def get_customer_orders(products):\n",
    "    \"\"\"Get customer orders and return them as a set\"\"\"\n",
    "    customer_orders = set()\n",
    "    while True:\n",
    "        order = input(\"\\nEnter the name of a product you want to order (or type 'done' to finish): \").strip()\n",
    "        if order.lower() == 'done':\n",
    "            break\n",
    "        if order in products:\n",
    "            customer_orders.add(order)\n",
    "        else:\n",
    "            print(\"Invalid product. Please choose from:\", \", \".join(products))\n",
    "    return customer_orders\n",
    "\n",
    "def update_inventory(customer_orders, inventory):\n",
    "    \"\"\"Update inventory based on customer orders\"\"\"\n",
    "    for product in customer_orders:\n",
    "        if product in inventory and inventory[product] > 0:\n",
    "            inventory[product] -= 1\n",
    "    return inventory\n",
    "\n",
    "def calculate_order_statistics(customer_orders, products):\n",
    "    \"\"\"Calculate and return order statistics\"\"\"\n",
    "    total_ordered = len(customer_orders)\n",
    "    percentage_ordered = (total_ordered / len(products)) * 100\n",
    "    return (total_ordered, percentage_ordered)\n",
    "\n",
    "def print_order_statistics(order_statistics):\n",
    "    \"\"\"Print the order statistics\"\"\"\n",
    "    total_ordered, percentage_ordered = order_statistics\n",
    "    print(\"\\nOrder Statistics:\")\n",
    "    print(f\"Total Products Ordered: {total_ordered}\")\n",
    "    print(f\"Percentage of Products Ordered: {percentage_ordered:.2f}%\")\n",
    "\n",
    "def print_updated_inventory(inventory):\n",
    "    \"\"\"Print the updated inventory\"\"\"\n",
    "    print(\"\\nUpdated Inventory:\")\n",
    "    for product, quantity in inventory.items():\n",
    "        print(f\"{product}: {quantity}\")\n",
    "\n",
    "def main():\n",
    "    products = [\"t-shirt\", \"mug\", \"hat\", \"book\", \"keychain\"]\n",
    "    inventory = initialize_inventory(products)\n",
    "    customer_orders = get_customer_orders(products)\n",
    "    updated_inventory = update_inventory(customer_orders, inventory)  # Fixed the parameter\n",
    "    order_stats = calculate_order_statistics(customer_orders, products)\n",
    "    print_order_statistics(order_stats)\n",
    "    print_updated_inventory(updated_inventory)\n",
    "\n",
    "if __name__ == '__main__':\n",
    "    main()"
   ]
  },
  {
   "cell_type": "code",
   "execution_count": null,
   "id": "bdc442b9-5518-4fa7-8b36-1c399c3d322a",
   "metadata": {},
   "outputs": [],
   "source": []
  }
 ],
 "metadata": {
  "kernelspec": {
   "display_name": "Python 3 (ipykernel)",
   "language": "python",
   "name": "python3"
  },
  "language_info": {
   "codemirror_mode": {
    "name": "ipython",
    "version": 3
   },
   "file_extension": ".py",
   "mimetype": "text/x-python",
   "name": "python",
   "nbconvert_exporter": "python",
   "pygments_lexer": "ipython3",
   "version": "3.12.7"
  }
 },
 "nbformat": 4,
 "nbformat_minor": 5
}
